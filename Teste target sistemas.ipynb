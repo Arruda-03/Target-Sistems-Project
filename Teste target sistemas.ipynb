{
 "cells": [
  {
   "cell_type": "code",
   "execution_count": 1,
   "id": "777d4b33-e836-469f-ac1d-dda33a770c1d",
   "metadata": {},
   "outputs": [
    {
     "name": "stdout",
     "output_type": "stream",
     "text": [
      "1\n",
      "3\n",
      "6\n",
      "10\n",
      "15\n",
      "21\n",
      "28\n",
      "36\n",
      "45\n",
      "55\n",
      "66\n",
      "78\n",
      "91\n"
     ]
    }
   ],
   "source": [
    "#1) Observe o trecho de código abaixo:\n",
    "indice = 13\n",
    "soma = 0\n",
    "k = 0\n",
    "while k < indice:\n",
    "    k = k + 1\n",
    "    soma = soma + k\n",
    "    print(soma)\n",
    "#Enquanto k < indice, o programa vai continuar rodando até que seja atingido o valor de indice \"13\", \n",
    "#por isso o valor de soma no final do processamento será 91."
   ]
  },
  {
   "cell_type": "code",
   "execution_count": 2,
   "id": "293ef9a0-72af-4781-bf94-3f170d43e511",
   "metadata": {},
   "outputs": [
    {
     "name": "stdin",
     "output_type": "stream",
     "text": [
      "Informe um número e veja se ele pertence a Fibonacci:  4\n"
     ]
    },
    {
     "name": "stdout",
     "output_type": "stream",
     "text": [
      "Não pertence.\n"
     ]
    }
   ],
   "source": [
    "#2) Dado a sequência de Fibonacci, onde se inicia por 0 e 1 e o próximo valor sempre será a soma dos 2 valores \n",
    "#anteriores (exemplo: 0, 1, 1, 2, 3, 5, 8, 13, 21, 34...), escreva um programa na linguagem que desejar onde,\n",
    "#informado um número, ele calcule a sequência de Fibonacci e retorne uma mensagem avisando se o número informado \n",
    "#pertence ou não a sequência.\n",
    "#IMPORTANTE:\n",
    "#Esse número pode ser informado através de qualquer entrada de sua preferência ou pode ser previamente definido no código;\n",
    "\n",
    "def main():\n",
    "    n = int(input(\"Informe um número e veja se ele pertence a Fibonacci: \"))\n",
    "    if fibo(n):\n",
    "        print(\"Pertence.\")\n",
    "    else:\n",
    "        print(\"Não pertence.\")\n",
    "def fibo(n):\n",
    "    a = 0\n",
    "    b = 1\n",
    "    c = 0\n",
    "    while c < n:\n",
    "        c = a + b\n",
    "        a = b\n",
    "        b = c\n",
    "    return c == n\n",
    "    \n",
    "if __name__== \"__main__\":\n",
    "  main()"
   ]
  },
  {
   "cell_type": "code",
   "execution_count": null,
   "id": "ade628ba-8d3f-4bdf-aa6f-b9fa245dd2a7",
   "metadata": {},
   "outputs": [],
   "source": [
    "#3) Descubra a lógica e complete o próximo elemento:\n",
    "#a) 1, 3, 5, 7, 9.\n",
    "#b) 2, 4, 8, 16, 32, 64, 128.\n",
    "#c) 0, 1, 4, 9, 16, 25, 36, 64.\n",
    "#d) 4, 16, 36, 64, 100.\n",
    "#e) 1, 1, 2, 3, 5, 8, 13.\n",
    "#f) 2,10, 12, 16, 17, 18, 19, 200?"
   ]
  },
  {
   "cell_type": "code",
   "execution_count": 2,
   "id": "483bd3e7-ade4-43a3-8d8f-423f068aa007",
   "metadata": {},
   "outputs": [
    {
     "name": "stdin",
     "output_type": "stream",
     "text": [
      "Coloque um número:  9\n"
     ]
    },
    {
     "name": "stdout",
     "output_type": "stream",
     "text": [
      "34\n"
     ]
    }
   ],
   "source": [
    "#4) Você está em uma sala com três interruptores, cada um conectado a uma lâmpada em uma sala diferente. \n",
    "#Você não pode ver as lâmpadas da sala em que está, mas pode ligar e desligar os interruptores quantas vezes quiser. \n",
    "#Seu objetivo é descobrir qual interruptor controla qual lâmpada.\n",
    "#Como você faria para descobrir, usando apenas duas idas até uma das salas das lâmpadas, qual interruptor controla cada lâmpada?\n",
    "#Supondo que os interruptores sejam respectivamente(a,b,c). Eu acenderia dois interruptores (a,b), e se eu for na primeira sala uma vez e\n",
    "#a luz estiver apagada eu sei que há ela pertence o interruptor(c), sendo assim eu apagaria o interruptor(a), e checaria na outra sala se a luz está \n",
    "#acesa, estando acesa eu saberia que a mesma pertence o interruptor(b) e na próxima o interruptor(a), caso apagada seria o mesmo raciocínio, \n",
    "#a ela pertenceria o interruptor(a) e próxima o interruptor(b).\n",
    "#No entanto, ascendendo os dois interruptores(a,b), e logo na primeira sala a luz já estiver acesa, eu voltaria e apagaria o interruptor (b) e\n",
    "#ascenderia o interruptor(c), assim quando eu fosse na segunda sala se a luz estivesse acesa já saberia que a mesma seria do interruptor(c), e a \n",
    "#próxima do interruptor(b). Caso estivesse apagada, saberia que seria do interruptor(c) e logo a próxima o interruptor(b)"
   ]
  },
  {
   "cell_type": "code",
   "execution_count": 3,
   "id": "3f48d3ac-da62-4f79-a1d3-4f00ecea7254",
   "metadata": {},
   "outputs": [
    {
     "name": "stdin",
     "output_type": "stream",
     "text": [
      "Escreva uma palavra para ser invertida:  Palavra\n"
     ]
    },
    {
     "name": "stdout",
     "output_type": "stream",
     "text": [
      "Você digitou: Palavra\n",
      "A frase invertida fica assim: arvalaP \n"
     ]
    }
   ],
   "source": [
    "#5) Escreva um programa que inverta os caracteres de um string.\n",
    "#IMPORTANTE:\n",
    "#a) Essa string pode ser informada através de qualquer entrada de sua preferência ou pode ser previamente definida no código;\n",
    "#b) Evite usar funções prontas, como, por exemplo, reverse;\n",
    "newstrg = \"\"\n",
    "strg = str(input(\"Escreva uma palavra para ser invertida: \"))\n",
    "print(\"Você digitou: {}\".format(strg))\n",
    "for palavra in strg.split(\" \"):\n",
    "    newstrg += palavra[::-1] + \" \"\n",
    "print(\"A frase invertida fica assim: {}\".format(newstrg))"
   ]
  },
  {
   "cell_type": "code",
   "execution_count": null,
   "id": "27b94361-82aa-4c25-a1f8-ddee28105678",
   "metadata": {},
   "outputs": [],
   "source": []
  }
 ],
 "metadata": {
  "kernelspec": {
   "display_name": "Python 3 (ipykernel)",
   "language": "python",
   "name": "python3"
  },
  "language_info": {
   "codemirror_mode": {
    "name": "ipython",
    "version": 3
   },
   "file_extension": ".py",
   "mimetype": "text/x-python",
   "name": "python",
   "nbconvert_exporter": "python",
   "pygments_lexer": "ipython3",
   "version": "3.11.7"
  }
 },
 "nbformat": 4,
 "nbformat_minor": 5
}
